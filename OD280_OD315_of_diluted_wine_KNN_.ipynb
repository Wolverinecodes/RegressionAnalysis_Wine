{
  "nbformat": 4,
  "nbformat_minor": 0,
  "metadata": {
    "colab": {
      "provenance": []
    },
    "kernelspec": {
      "name": "python3",
      "display_name": "Python 3"
    },
    "language_info": {
      "name": "python"
    }
  },
  "cells": [
    {
      "cell_type": "code",
      "execution_count": 2,
      "metadata": {
        "id": "MM_BZv4v49yi"
      },
      "outputs": [],
      "source": [
        "import pandas as pd\n",
        "import numpy as np\n",
        "import matplotlib.pyplot as plt\n",
        "import seaborn as sns\n",
        "# machine learning\n",
        "from sklearn.datasets import load_wine\n",
        "from sklearn.preprocessing import MinMaxScaler, StandardScaler\n",
        "from sklearn.pipeline import Pipeline\n",
        "from sklearn.model_selection import train_test_split, RandomizedSearchCV, GridSearchCV\n",
        "from sklearn.neighbors import KNeighborsRegressor\n",
        "from sklearn.metrics import mean_squared_error, r2_score, mean_absolute_error\n",
        "from scipy.stats import randint"
      ]
    },
    {
      "cell_type": "code",
      "source": [
        "data = load_wine().data\n",
        "target=load_wine().target\n",
        "f_names= load_wine().feature_names\n",
        "f_targets=load_wine().target_names"
      ],
      "metadata": {
        "id": "WLQ1Ua2QGxWy"
      },
      "execution_count": 3,
      "outputs": []
    },
    {
      "cell_type": "code",
      "source": [
        "df = pd.DataFrame(data, columns=f_names)\n",
        "df.shape"
      ],
      "metadata": {
        "colab": {
          "base_uri": "https://localhost:8080/",
          "height": 0
        },
        "id": "CNteHQt0OkXg",
        "outputId": "7c989440-06c9-4d83-8d67-135fa3a2e440"
      },
      "execution_count": 4,
      "outputs": [
        {
          "output_type": "execute_result",
          "data": {
            "text/plain": [
              "(178, 13)"
            ]
          },
          "metadata": {},
          "execution_count": 4
        }
      ]
    },
    {
      "cell_type": "code",
      "source": [
        "df.head()"
      ],
      "metadata": {
        "id": "EPQWm4r_Ox2G"
      },
      "execution_count": null,
      "outputs": []
    },
    {
      "cell_type": "code",
      "source": [
        "df.info()"
      ],
      "metadata": {
        "id": "JdmXiSDiZrF1"
      },
      "execution_count": null,
      "outputs": []
    },
    {
      "cell_type": "markdown",
      "source": [],
      "metadata": {
        "id": "FdNI_ZCqcWDb"
      }
    },
    {
      "cell_type": "code",
      "source": [
        "df.describe()"
      ],
      "metadata": {
        "id": "Wx1sEN8ja3iM"
      },
      "execution_count": null,
      "outputs": []
    },
    {
      "cell_type": "markdown",
      "source": [
        "EDA-Descriptive"
      ],
      "metadata": {
        "id": "IQgY8GjQcYMe"
      }
    },
    {
      "cell_type": "code",
      "source": [
        "df.corr()"
      ],
      "metadata": {
        "id": "P-NGqt0jciPM"
      },
      "execution_count": null,
      "outputs": []
    },
    {
      "cell_type": "markdown",
      "source": [
        "EDA-viz"
      ],
      "metadata": {
        "id": "visNKZ7kfjZz"
      }
    },
    {
      "cell_type": "code",
      "source": [
        "plt.figure(figsize=(12,12))\n",
        "sns.heatmap(df.corr(),annot=True)\n",
        "plt.show()"
      ],
      "metadata": {
        "id": "09zOEnnAdP1V"
      },
      "execution_count": null,
      "outputs": []
    },
    {
      "cell_type": "code",
      "source": [
        "df.hist(figsize=(12,12))\n",
        "plt.show()"
      ],
      "metadata": {
        "id": "RXNA2ahJgcHB"
      },
      "execution_count": null,
      "outputs": []
    },
    {
      "cell_type": "code",
      "source": [
        "# chekc null\n",
        "df.isna().sum().sum()"
      ],
      "metadata": {
        "id": "RUbTY24oekaD",
        "colab": {
          "base_uri": "https://localhost:8080/",
          "height": 0
        },
        "outputId": "a40bd48d-d466-4adc-ab31-aa59effc5c5f"
      },
      "execution_count": 11,
      "outputs": [
        {
          "output_type": "execute_result",
          "data": {
            "text/plain": [
              "0"
            ]
          },
          "metadata": {},
          "execution_count": 11
        }
      ]
    },
    {
      "cell_type": "markdown",
      "source": [
        "EDA-Dublicated"
      ],
      "metadata": {
        "id": "BWM3Rx3kfth5"
      }
    },
    {
      "cell_type": "code",
      "source": [
        "df.duplicated().sum()"
      ],
      "metadata": {
        "id": "alSm652vfzPB",
        "colab": {
          "base_uri": "https://localhost:8080/",
          "height": 0
        },
        "outputId": "531bfae8-b1f1-4269-daed-1a0856476371"
      },
      "execution_count": 12,
      "outputs": [
        {
          "output_type": "execute_result",
          "data": {
            "text/plain": [
              "0"
            ]
          },
          "metadata": {},
          "execution_count": 12
        }
      ]
    },
    {
      "cell_type": "markdown",
      "source": [],
      "metadata": {
        "id": "fX_ZzYVFNWuE"
      }
    },
    {
      "cell_type": "markdown",
      "source": [
        "Preprocessing\n"
      ],
      "metadata": {
        "id": "EzzPq-Jjg18S"
      }
    },
    {
      "cell_type": "markdown",
      "source": [
        "# OD280/OD315 of diluted wines\n",
        "The feature \"OD280/OD315 of diluted wines\" refers to the ratio of optical density (OD) at a wavelength of 280 nanometers to the optical density at 315 nanometers. This feature is used in the chemical analysis of wines to assess the levels of phenols and polyphenolic compounds (such as tannins).\n",
        "\n",
        "Phenols and polyphenolic compounds have a significant impact on the taste, color, and shelf life of wine. Therefore, this ratio can serve as a quality metric or a characteristic indicator of specific compounds in the wine.\n",
        "\n",
        "In summary, this feature is an indicator that helps evaluate the quality of phenolic and polyphenolic compounds in diluted wines.\n"
      ],
      "metadata": {
        "id": "m-Iya5NdMVut"
      }
    },
    {
      "cell_type": "code",
      "source": [
        "## categorical to numerical --> not valid for this dataset\n",
        "# train_test split\n",
        "y = df['od280/od315_of_diluted_wines']\n",
        "X = df.drop(['od280/od315_of_diluted_wines'], axis=1)\n",
        "X_train, X_test, y_train, y_test = train_test_split(X,\n",
        "                                                    y,\n",
        "                                                    test_size=0.2,\n",
        "                                                    shuffle=True,\n",
        "                                                    random_state=42,\n",
        "                                                    )"
      ],
      "metadata": {
        "id": "IMJ7lSwxg-14"
      },
      "execution_count": 13,
      "outputs": []
    },
    {
      "cell_type": "code",
      "source": [
        "# scale the features\n",
        "mms = MinMaxScaler()\n",
        "mms.fit(X_train) # learn min and max from train set for each column\n",
        "X_train = mms.transform(X_train)\n",
        "X_test = mms.transform(X_test) # ?\n"
      ],
      "metadata": {
        "id": "5QrorjeWm5D6"
      },
      "execution_count": 14,
      "outputs": []
    },
    {
      "cell_type": "markdown",
      "source": [
        "Train the model"
      ],
      "metadata": {
        "id": "kzyuzjmKtlkL"
      }
    },
    {
      "cell_type": "code",
      "source": [
        " # train the model\n",
        "for i in range(2,20):\n",
        "    knn_reg = KNeighborsRegressor(n_neighbors=i, metric=\"euclidean\")\n",
        "    knn_reg.fit(X_train, y_train)\n",
        "    y_pred = knn_reg.predict(X_test)\n",
        "    r2 = r2_score(y_test, y_pred)\n",
        "    print(f'n_neighbors: {i}, r2: {r2}')\n"
      ],
      "metadata": {
        "id": "kdcXcKmdtqxs",
        "colab": {
          "base_uri": "https://localhost:8080/"
        },
        "outputId": "f00aa164-be9d-49f6-d615-384d95ce6918"
      },
      "execution_count": 22,
      "outputs": [
        {
          "output_type": "stream",
          "name": "stdout",
          "text": [
            "n_neighbors: 2, r2: 0.7484614322026519\n",
            "n_neighbors: 3, r2: 0.709500269438223\n",
            "n_neighbors: 4, r2: 0.728875314854212\n",
            "n_neighbors: 5, r2: 0.7203654287377269\n",
            "n_neighbors: 6, r2: 0.7295034494567708\n",
            "n_neighbors: 7, r2: 0.7438098622010072\n",
            "n_neighbors: 8, r2: 0.721698723010312\n",
            "n_neighbors: 9, r2: 0.7199362941080683\n",
            "n_neighbors: 10, r2: 0.7209457965119082\n",
            "n_neighbors: 11, r2: 0.7182352539334476\n",
            "n_neighbors: 12, r2: 0.7120695103850629\n",
            "n_neighbors: 13, r2: 0.7107400671323723\n",
            "n_neighbors: 14, r2: 0.6963060409443025\n",
            "n_neighbors: 15, r2: 0.6971444152902776\n",
            "n_neighbors: 16, r2: 0.6870184977748863\n",
            "n_neighbors: 17, r2: 0.6920301505231599\n",
            "n_neighbors: 18, r2: 0.6924941249996703\n",
            "n_neighbors: 19, r2: 0.6920832216366484\n"
          ]
        }
      ]
    },
    {
      "cell_type": "code",
      "source": [
        "# prediction\n",
        "knn_reg = KNeighborsRegressor(n_neighbors=2, metric=\"euclidean\")\n",
        "knn_reg.fit(X_train, y_train)\n",
        "y_pred = knn_reg.predict(X_test)"
      ],
      "metadata": {
        "id": "IDtrs0Qet-iC"
      },
      "execution_count": 23,
      "outputs": []
    },
    {
      "cell_type": "code",
      "source": [
        "# evaluate the model\n",
        "r2 = r2_score(y_test, y_pred)\n",
        "mse = mean_squared_error(y_test, y_pred)\n",
        "mae = mean_absolute_error(y_test, y_pred)\n",
        "\n",
        "print(f'R2: {r2}')\n",
        "print(f'MSE: {mse}')\n",
        "print(f'MAE: {mae}')"
      ],
      "metadata": {
        "colab": {
          "base_uri": "https://localhost:8080/"
        },
        "id": "CdFn_LSbuDA-",
        "outputId": "0f074d63-284a-416b-9dd2-f401c3038259"
      },
      "execution_count": 24,
      "outputs": [
        {
          "output_type": "stream",
          "name": "stdout",
          "text": [
            "R2: 0.7484614322026519\n",
            "MSE: 0.10790763888888893\n",
            "MAE: 0.24902777777777788\n"
          ]
        }
      ]
    }
  ]
}